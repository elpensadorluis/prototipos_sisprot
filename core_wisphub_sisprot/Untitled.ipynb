{
 "cells": [
  {
   "cell_type": "markdown",
   "id": "cd5ff1b4-85b6-4a35-979a-2b46c1817758",
   "metadata": {},
   "source": [
    "Una función que recibe un arreglo de palabras y una palabra debe retornar un arreglo con la cantidad de veces que aparece esa palabra en el arreglo y el largo del arreglo\n",
    "Al llamarla con ([\"ab\",\"a\",\"b\"], \"a\") debería retornar (1,3)"
   ]
  },
  {
   "cell_type": "code",
   "execution_count": 4,
   "id": "b4a8cde5-26d7-468f-b407-40ba08d37cb6",
   "metadata": {},
   "outputs": [],
   "source": [
    "listaPalabras = [\"ab\",\"a\",\"b\"]\n",
    "frecuenciaPalab = 0\n",
    "palabra = \"a\"\n",
    "frecuenciaPalab = listaPalabras.count(palabra)\n",
    "len(listaPalabras)"
   ]
  },
  {
   "cell_type": "code",
   "execution_count": 8,
   "id": "9c292f0f-148b-40e6-8158-0b91b0d80894",
   "metadata": {},
   "outputs": [],
   "source": [
    "def contar_palabras(lista, palabra):\n",
    "    return (lista.count(palabra),len(lista))"
   ]
  },
  {
   "cell_type": "code",
   "execution_count": 6,
   "id": "47ef5ffc-d0b1-41d4-8fcc-0d3833a97eb7",
   "metadata": {},
   "outputs": [
    {
     "name": "stdout",
     "output_type": "stream",
     "text": [
      "1,3\n"
     ]
    }
   ],
   "source": [
    "print(f\"{frecuenciaPalab},{len(listaPalabras)}\")"
   ]
  },
  {
   "cell_type": "code",
   "execution_count": 9,
   "id": "99d80cdf-8a7e-42d4-9a9b-2607668dd438",
   "metadata": {},
   "outputs": [],
   "source": [
    "listaPalabras = [\"ab\",\"a\",\"b\"]\n",
    "palabra = \"a\"\n",
    "lista, n_palabra = contar_palabras(listaPalabras, palabra)"
   ]
  },
  {
   "cell_type": "code",
   "execution_count": 11,
   "id": "a9f2879a-28cc-482b-bf16-0d3d9e954c7d",
   "metadata": {},
   "outputs": [
    {
     "name": "stdout",
     "output_type": "stream",
     "text": [
      "1,3\n"
     ]
    }
   ],
   "source": [
    "print(f\"({lista},{n_palabra})\")"
   ]
  },
  {
   "cell_type": "code",
   "execution_count": null,
   "id": "a8c1befd-fa01-4c7c-97c9-a18398394c45",
   "metadata": {},
   "outputs": [],
   "source": []
  }
 ],
 "metadata": {
  "kernelspec": {
   "display_name": "Python 3 (ipykernel)",
   "language": "python",
   "name": "python3"
  },
  "language_info": {
   "codemirror_mode": {
    "name": "ipython",
    "version": 3
   },
   "file_extension": ".py",
   "mimetype": "text/x-python",
   "name": "python",
   "nbconvert_exporter": "python",
   "pygments_lexer": "ipython3",
   "version": "3.10.9"
  }
 },
 "nbformat": 4,
 "nbformat_minor": 5
}
